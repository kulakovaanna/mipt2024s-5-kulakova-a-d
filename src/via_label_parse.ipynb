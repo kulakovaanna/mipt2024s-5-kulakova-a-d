{
 "cells": [
  {
   "cell_type": "code",
   "execution_count": 25,
   "metadata": {},
   "outputs": [],
   "source": [
    "import json\n",
    "import os\n",
    "from tqdm.notebook import tqdm"
   ]
  },
  {
   "cell_type": "code",
   "execution_count": 26,
   "metadata": {},
   "outputs": [],
   "source": [
    "def read_json(path):\n",
    "    file = open(path)\n",
    "    data = json.load(file)\n",
    "    \n",
    "    return data\n",
    "\n",
    "def save_json(json_string, path):\n",
    "    with open(path, \"w\") as file:\n",
    "        json.dump(json_string, file, indent=4)"
   ]
  },
  {
   "cell_type": "code",
   "execution_count": 27,
   "metadata": {},
   "outputs": [],
   "source": [
    "VIA_PROJECT_FILE = \"../data/via_project.json\"\n",
    "LABEL_SAVE_DIR = \"../data/barcode_dataset/labels\""
   ]
  },
  {
   "cell_type": "code",
   "execution_count": 28,
   "metadata": {},
   "outputs": [
    {
     "data": {
      "application/vnd.jupyter.widget-view+json": {
       "model_id": "49cdfe0c82e34e1bb28cac1c3a47ea0e",
       "version_major": 2,
       "version_minor": 0
      },
      "text/plain": [
       "saving particular jsons:   0%|          | 0/40 [00:00<?, ?it/s]"
      ]
     },
     "metadata": {},
     "output_type": "display_data"
    }
   ],
   "source": [
    "label_data_raw = read_json(VIA_PROJECT_FILE)\n",
    "img_metadata = label_data_raw[\"_via_img_metadata\"]\n",
    "\n",
    "for image_id in tqdm(img_metadata, desc=\"saving particular jsons\"):\n",
    "    image_label_data = img_metadata[image_id]\n",
    "    label_filename = f\"{image_label_data['filename'].split('.')[0]}.json\"\n",
    "    label_path = os.path.join(LABEL_SAVE_DIR, label_filename)\n",
    "    save_json(image_label_data, label_path)"
   ]
  }
 ],
 "metadata": {
  "kernelspec": {
   "display_name": "base",
   "language": "python",
   "name": "python3"
  },
  "language_info": {
   "codemirror_mode": {
    "name": "ipython",
    "version": 3
   },
   "file_extension": ".py",
   "mimetype": "text/x-python",
   "name": "python",
   "nbconvert_exporter": "python",
   "pygments_lexer": "ipython3",
   "version": "3.10.13"
  }
 },
 "nbformat": 4,
 "nbformat_minor": 2
}
